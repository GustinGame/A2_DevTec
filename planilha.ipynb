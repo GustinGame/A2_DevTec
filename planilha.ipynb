{
    "cells": [
        {
            "cell_type": "markdown",
            "metadata": {},
            "source": [
                "<h1 align=\"center\">Método das Aproximações Sucessivas</h1>\n",
                "\n",
                "<h4 align=\"center\">Gustavo Henrique Gonçalves Ribeiro</h4>\n",
                "\n",
                "<h4 align=\"center\">ADS 2° Semestre</h4>\n",
                "\n",
                "&nbsp;"
            ]
        },
        {
            "cell_type": "markdown",
            "metadata": {},
            "source": [
                "### Tensão de entrada = 2,15 V\n",
                "\n",
                "* Tensão de entrada: $2.15 \\text{ V}$\n",
                "* Resolução do conversor Analógico-Digital (ADC): 10-bit (valor digital = 0 ~ 1023)\n",
                "* Precisão do valor da tensão do comparador: $5.0 / 1024 \\cong 0.005 \\text{V}$ \n",
                "\n",
                "$$\n",
                "\\begin{array}{ |c|c|c|c|c|c|c|c|c|c|c| } \n",
                "  \\hline\n",
                "  \\text{Tensão de entrada (V)}       & 2.15   & 2.15   & 2.15   & 2.15   & 2.15   & 2.15   & 2.15   & 2.15   & 2.15   & 2.15 \\\\ \\hline\n",
                "  \\text{Comparador do ADC (V)}       & 2.500 & 1.250 & 1.875 & 2.190 & 2.035 & 2.112 & 2.073 & 2.092 & 2.102 & 2.097 \\\\ \\hline\n",
                "  \\text{bit resultante =} \\newline\n",
                "  \\text{Tensão de ent. > Comparador} & 0     & 1     & 1     & 0     & 1     & 0     & 1     & 1     & 0     & 1 \\\\ \\hline\n",
                "\\end{array}\n",
                "$$\n",
                "\n",
                "* Valor obtido = $011010110_{(2)} = 429_{(10)}$\n",
                "\n",
                "\n",
                "&nbsp;"
            ]
        }
    ],
    "metadata": {
        "kernelspec": {
            "display_name": "Python 3.9.13 ('base')",
            "language": "python",
            "name": "python3"
        },
        "language_info": {
            "name": "python",
            "version": "3.9.13"
        },
        "orig_nbformat": 4,
        "vscode": {
            "interpreter": {
                "hash": "6ca436f98112c699fca53176ca9b2af64a577e7d8248f3b63a91e306eedca64e"
            }
        }
    },
    "nbformat": 4,
    "nbformat_minor": 2
}
